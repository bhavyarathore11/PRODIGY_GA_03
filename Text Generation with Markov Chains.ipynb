{
 "cells": [
  {
   "cell_type": "code",
   "execution_count": 9,
   "id": "7a89bf74",
   "metadata": {},
   "outputs": [],
   "source": [
    "import random\n",
    "from collections import defaultdict"
   ]
  },
  {
   "cell_type": "code",
   "execution_count": 10,
   "id": "c17172e0",
   "metadata": {},
   "outputs": [],
   "source": [
    "sample_text = \"\"\"\n",
    "Once upon a time, in a land far, far away, there was a tiny village. The village was nestled in a valley, surrounded by tall, majestic mountains.\n",
    "The people of the village lived in harmony with nature. They farmed the land, raised animals, and shared their harvest with one another. Each season brought its own blessings and challenges.\n",
    "One day, a stranger arrived in the village. He was a tall man with a mysterious aura. The villagers were curious about him, but they welcomed him with open arms.\n",
    "\"\"\""
   ]
  },
  {
   "cell_type": "code",
   "execution_count": 11,
   "id": "dbeaae04",
   "metadata": {},
   "outputs": [],
   "source": [
    "def build_markov_chain(text):\n",
    "    words = text.split()\n",
    "    markov_chain = defaultdict(list)\n",
    "    \n",
    "    for i in range(len(words) - 1):\n",
    "        markov_chain[words[i]].append(words[i + 1])\n",
    "    \n",
    "    return markov_chain"
   ]
  },
  {
   "cell_type": "code",
   "execution_count": 12,
   "id": "20663152",
   "metadata": {},
   "outputs": [],
   "source": [
    "def generate_text(chain, length=50, start_word=None):\n",
    "    if start_word is None:\n",
    "        start_word = random.choice(list(chain.keys()))\n",
    "    \n",
    "    word = start_word\n",
    "    result = [word]\n",
    "    \n",
    "    for _ in range(length - 1):\n",
    "        if word in chain:\n",
    "            word = random.choice(chain[word])\n",
    "            result.append(word)\n",
    "        else:\n",
    "            break\n",
    "    \n",
    "    return ' '.join(result)"
   ]
  },
  {
   "cell_type": "code",
   "execution_count": 13,
   "id": "044b670e",
   "metadata": {},
   "outputs": [
    {
     "name": "stdout",
     "output_type": "stream",
     "text": [
      "blessings and shared their harvest with one another. Each season brought its own blessings and shared their harvest with one another. Each season brought its own blessings and challenges. One day, a land far, far away, there was nestled in harmony with one another. Each season brought its own blessings\n"
     ]
    }
   ],
   "source": [
    "markov_chain = build_markov_chain(sample_text)\n",
    "generated_text = generate_text(markov_chain, length=50)\n",
    "print(generated_text)"
   ]
  },
  {
   "cell_type": "code",
   "execution_count": 14,
   "id": "c1af664e",
   "metadata": {},
   "outputs": [],
   "source": [
    "#Generating with Markovify"
   ]
  },
  {
   "cell_type": "code",
   "execution_count": 15,
   "id": "e434b22f",
   "metadata": {},
   "outputs": [
    {
     "name": "stdout",
     "output_type": "stream",
     "text": [
      "Requirement already satisfied: markovify in c:\\users\\hp\\anaconda3\\lib\\site-packages (0.9.4)\n",
      "Requirement already satisfied: unidecode in c:\\users\\hp\\anaconda3\\lib\\site-packages (from markovify) (1.2.0)\n",
      "Note: you may need to restart the kernel to use updated packages.\n"
     ]
    }
   ],
   "source": [
    "pip install markovify\n"
   ]
  },
  {
   "cell_type": "code",
   "execution_count": 16,
   "id": "e678f365",
   "metadata": {},
   "outputs": [],
   "source": [
    "import markovify"
   ]
  },
  {
   "cell_type": "code",
   "execution_count": 21,
   "id": "45dc8ae1",
   "metadata": {
    "scrolled": true
   },
   "outputs": [],
   "source": [
    "text_content = \"\"\"Once upon a time in a land far away, there was a beautiful princess who lived in a grand castle. The castle was surrounded by lush forests and sparkling rivers. The princess loved to explore the forests and play by the rivers. One day, she met a brave knight who was on a quest to find a legendary treasure. Together, they embarked on an adventure filled with danger and excitement. Along the way, they encountered mystical creatures, solved ancient riddles, and discovered the true meaning of courage and friendship. In the end, they found the treasure, but the real reward was the bond they had formed. They returned to the castle and lived happily ever after.\"\"\"\n",
    "\n",
    "with open('example.txt', 'w') as file:\n",
    "    file.write(text_content)\n"
   ]
  },
  {
   "cell_type": "code",
   "execution_count": 23,
   "id": "1f4d4434",
   "metadata": {},
   "outputs": [],
   "source": [
    "with open('example.txt', 'r') as file:\n",
    "    text = file.read()\n"
   ]
  },
  {
   "cell_type": "code",
   "execution_count": 24,
   "id": "24611114",
   "metadata": {
    "scrolled": true
   },
   "outputs": [],
   "source": [
    "text_model = markovify.Text(text, state_size=2)\n"
   ]
  },
  {
   "cell_type": "code",
   "execution_count": 25,
   "id": "3eb47a5c",
   "metadata": {},
   "outputs": [
    {
     "name": "stdout",
     "output_type": "stream",
     "text": [
      "Generated Sentences:\n",
      "Once upon a time in a grand castle.\n",
      "Once upon a time in a grand castle.\n",
      "Once upon a time in a grand castle.\n",
      "Once upon a time in a grand castle.\n",
      "The castle was surrounded by lush forests and play by the rivers.\n"
     ]
    }
   ],
   "source": [
    "print(\"Generated Sentences:\")\n",
    "for _ in range(5):\n",
    "    print(text_model.make_sentence())"
   ]
  },
  {
   "cell_type": "code",
   "execution_count": 28,
   "id": "14582542",
   "metadata": {},
   "outputs": [
    {
     "name": "stdout",
     "output_type": "stream",
     "text": [
      "\n",
      "Generated Paragraphs:\n",
      "Once upon a time in a grand castle. The castle was surrounded by lush forests and play by the rivers. Once upon a time in a grand castle.\n",
      "\n",
      "The castle was surrounded by lush forests and play by the rivers. Once upon a time in a grand castle. The castle was surrounded by lush forests and play by the rivers. The castle was surrounded by lush forests and play by the rivers.\n",
      "\n",
      "Once upon a time in a grand castle. The castle was surrounded by lush forests and play by the rivers. Once upon a time in a grand castle. Once upon a time in a grand castle. The castle was surrounded by lush forests and play by the rivers.\n",
      "\n"
     ]
    }
   ],
   "source": [
    "print(\"\\nGenerated Paragraphs:\")\n",
    "for _ in range(3):\n",
    "    sentences = [text_model.make_sentence() for _ in range(5)]\n",
    "    sentences = [s for s in sentences if s is not None]  # Filter out None values\n",
    "    paragraph = \" \".join(sentences)\n",
    "    print(paragraph)\n",
    "    print() "
   ]
  },
  {
   "cell_type": "code",
   "execution_count": null,
   "id": "0bdd8cb6",
   "metadata": {},
   "outputs": [],
   "source": [
    "#Combining Multiple Models"
   ]
  },
  {
   "cell_type": "code",
   "execution_count": 32,
   "id": "577e9e62",
   "metadata": {},
   "outputs": [],
   "source": [
    "text_content_1 = \"\"\"\"Once upon a time, there was a young wizard named Merlin who lived in a small village nestled deep within the enchanted forest. Merlin was known for his extraordinary magical abilities and wise counsel. One day, a mysterious prophecy foretold of an ancient dragon awakening from its slumber and threatening the kingdom. To save his people, Merlin set out on a perilous journey to find the legendary sword Excalibur, the only weapon capable of defeating the dragon. Along the way, he encountered allies and faced numerous challenges, testing his courage and wisdom. In the end, Merlin succeeded in his quest, vanquishing the dragon and restoring peace to the land.\n",
    "\"\"\"\"\"\n",
    "text_content_2 = \"\"\"\"In a bustling metropolis, amidst towering skyscrapers and bustling streets, lived a determined young entrepreneur named Sarah. Sarah dreamt of revolutionizing the tech industry with her innovative ideas. With unwavering determination, she founded a startup company focused on developing cutting-edge artificial intelligence. Despite facing skepticism and setbacks, Sarah persevered, building a passionate team and securing crucial investments. Her breakthrough AI technology soon gained global recognition, transforming industries and improving lives worldwide. Sarah's journey taught her invaluable lessons in resilience, leadership, and the power of perseverance.\n",
    "\"\"\"\"\"\n"
   ]
  },
  {
   "cell_type": "code",
   "execution_count": 33,
   "id": "5873d330",
   "metadata": {},
   "outputs": [],
   "source": [
    "with open('example1.txt', 'w') as file1, open('example2.txt', 'w') as file2:\n",
    "    file1.write(text_content_1)\n",
    "    file2.write(text_content_2)\n"
   ]
  },
  {
   "cell_type": "code",
   "execution_count": 34,
   "id": "1edbba01",
   "metadata": {},
   "outputs": [],
   "source": [
    "with open('example1.txt', 'r') as file1, open('example2.txt', 'r') as file2:\n",
    "    text1 = file1.read()\n",
    "    text2 = file2.read()"
   ]
  },
  {
   "cell_type": "code",
   "execution_count": 35,
   "id": "f597d554",
   "metadata": {},
   "outputs": [
    {
     "name": "stdout",
     "output_type": "stream",
     "text": [
      "Content of example1.txt:\n",
      "\"Once upon a time, there was a young wizard named Merlin who lived in a small village nestled deep within the enchanted forest. Merlin was known for his extraordinary magical abilities and wise counsel. One day, a mysterious prophecy foretold of an ancient dragon awakening from its slumber and threatening the kingdom. To save his people, Merlin set out on a perilous journey to find the legendary sword Excalibur, the only weapon capable of defeating the dragon. Along the way, he encountered allies and faced numerous challenges, testing his courage and wisdom. In the end, Merlin succeeded in his quest, vanquishing the dragon and restoring peace to the land.\n",
      "\n",
      "\n",
      "Content of example2.txt:\n",
      "\"In a bustling metropolis, amidst towering skyscrapers and bustling streets, lived a determined young entrepreneur named Sarah. Sarah dreamt of revolutionizing the tech industry with her innovative ideas. With unwavering determination, she founded a startup company focused on developing cutting-edge artificial intelligence. Despite facing skepticism and setbacks, Sarah persevered, building a passionate team and securing crucial investments. Her breakthrough AI technology soon gained global recognition, transforming industries and improving lives worldwide. Sarah's journey taught her invaluable lessons in resilience, leadership, and the power of perseverance.\n",
      "\n"
     ]
    }
   ],
   "source": [
    "\n",
    "print(\"Content of example1.txt:\")\n",
    "print(text1)\n",
    "print(\"\\nContent of example2.txt:\")\n",
    "print(text2)"
   ]
  },
  {
   "cell_type": "code",
   "execution_count": null,
   "id": "7401b8f2",
   "metadata": {},
   "outputs": [],
   "source": [
    "#Handling Edge Cases"
   ]
  },
  {
   "cell_type": "code",
   "execution_count": 36,
   "id": "a64c0ca6",
   "metadata": {},
   "outputs": [],
   "source": [
    "sentence_starters = [\"Once upon a time\", \"In a land far away\", \"Long ago\"]\n",
    "sentence_terminators = [\".\", \"!\", \"?\"]\n"
   ]
  },
  {
   "cell_type": "code",
   "execution_count": 37,
   "id": "a9406cf3",
   "metadata": {},
   "outputs": [],
   "source": [
    "class CustomText(markovify.Text):\n",
    "    def test_sentence_input(self, sentence):\n",
    "        return sentence.startswith(tuple(sentence_starters)) and sentence.endswith(tuple(sentence_terminators))\n"
   ]
  },
  {
   "cell_type": "code",
   "execution_count": 38,
   "id": "10e4adbc",
   "metadata": {},
   "outputs": [],
   "source": [
    "text_model = CustomText(text)"
   ]
  },
  {
   "cell_type": "code",
   "execution_count": null,
   "id": "f7e117c0",
   "metadata": {},
   "outputs": [],
   "source": [
    "#Generating with non-prose text"
   ]
  },
  {
   "cell_type": "code",
   "execution_count": 40,
   "id": "c6452f03",
   "metadata": {},
   "outputs": [],
   "source": [
    "text_content = \"\"\"\n",
    "In the depths of the night, stars shimmer bright,\n",
    "Whispers of wind weave through the trees,\n",
    "Moonlight dances on the silent lake,\n",
    "A lullaby of nature's melodies.\n",
    "\n",
    "Verse by verse, the poet's heart beats,\n",
    "In rhythm with the universe's song,\n",
    "Words entwine, like vines on a trellis,\n",
    "Echoes of emotions, timeless and strong.\n",
    "\n",
    "The poet's pen, a brush upon the canvas,\n",
    "Paints the sky with dreams untold,\n",
    "In every line, a glimpse of infinity,\n",
    "A story of love, of passion, of gold.\n",
    "\"\"\""
   ]
  },
  {
   "cell_type": "code",
   "execution_count": 54,
   "id": "da2f0b17",
   "metadata": {},
   "outputs": [],
   "source": [
    "state_size = 2\n",
    "text_model = markovify.Text(text_content, state_size=state_size)"
   ]
  },
  {
   "cell_type": "code",
   "execution_count": 52,
   "id": "62e50280",
   "metadata": {},
   "outputs": [
    {
     "name": "stdout",
     "output_type": "stream",
     "text": [
      "Generated Sentences:\n",
      "Unable to generate a sentence.\n",
      "Unable to generate a sentence.\n",
      "Unable to generate a sentence.\n",
      "Unable to generate a sentence.\n",
      "Unable to generate a sentence.\n"
     ]
    }
   ],
   "source": [
    "print(\"Generated Sentences:\")\n",
    "for _ in range(5):  # Adjust the number of sentences you want to generate\n",
    "    sentence = text_model.make_sentence()\n",
    "    if sentence:\n",
    "        print(sentence)\n",
    "    else:\n",
    "        print(\"Unable to generate a sentence.\")"
   ]
  },
  {
   "cell_type": "code",
   "execution_count": 53,
   "id": "f8302fe6",
   "metadata": {
    "scrolled": true
   },
   "outputs": [
    {
     "name": "stdout",
     "output_type": "stream",
     "text": [
      "\n",
      "Generated Paragraphs:\n",
      "Unable to generate a sentence.\n",
      "Unable to generate a sentence.\n",
      "Unable to generate a sentence.\n",
      "Unable to generate a sentence.\n",
      "Unable to generate a sentence.\n",
      "Unable to generate a sentence.\n",
      "Unable to generate a sentence.\n",
      "Unable to generate a sentence.\n",
      "Unable to generate a sentence.\n",
      "Unable to generate a sentence.\n",
      "Unable to generate a sentence.\n",
      "Unable to generate a sentence.\n",
      "Unable to generate a sentence.\n",
      "Unable to generate a sentence.\n",
      "Unable to generate a sentence.\n"
     ]
    }
   ],
   "source": [
    "print(\"\\nGenerated Paragraphs:\")\n",
    "for _ in range(3):  # Adjust the number of paragraphs you want to generate\n",
    "    sentences = []\n",
    "    for _ in range(5):\n",
    "        sentence = text_model.make_sentence()\n",
    "        if sentence:\n",
    "            sentences.append(sentence)\n",
    "        else:\n",
    "            print(\"Unable to generate a sentence.\")\n",
    "    if sentences:\n",
    "        paragraph = \"\\n\".join(sentences)\n",
    "        print(paragraph)\n",
    "        print()"
   ]
  },
  {
   "cell_type": "code",
   "execution_count": null,
   "id": "98a39b2e",
   "metadata": {},
   "outputs": [],
   "source": []
  }
 ],
 "metadata": {
  "kernelspec": {
   "display_name": "Python 3 (ipykernel)",
   "language": "python",
   "name": "python3"
  },
  "language_info": {
   "codemirror_mode": {
    "name": "ipython",
    "version": 3
   },
   "file_extension": ".py",
   "mimetype": "text/x-python",
   "name": "python",
   "nbconvert_exporter": "python",
   "pygments_lexer": "ipython3",
   "version": "3.11.4"
  }
 },
 "nbformat": 4,
 "nbformat_minor": 5
}
